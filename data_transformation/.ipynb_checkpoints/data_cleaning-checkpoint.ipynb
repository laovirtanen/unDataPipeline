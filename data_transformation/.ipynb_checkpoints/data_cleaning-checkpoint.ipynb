{
 "cells": [
  {
   "cell_type": "code",
   "outputs": [],
   "source": [
    "# Data cleaning process\n",
    "This datasource is from Un. The name of the csv file is \"SYB66_246_202310_Population Growth, Fertility and Mortality Indicators\"\n",
    "Data will be cleaned to display only data from 2022. All invalid fields will be removed and data types corrected if necessary. \n",
    "\n",
    "Data cleaning will be done manually to explore the process\n"
   ],
   "metadata": {
    "collapsed": false
   },
   "id": "93cc30dbfd4e4beb"
  },
  {
   "cell_type": "code",
   "outputs": [],
   "source": [
    "from pathlib import Path\n",
    "import pandas as pd\n",
    "\n",
    "# Define file paths\n",
    "input_file = '../s3/imports/population_indicators.csv'\n",
    "output_dir = Path('./data_folder')\n",
    "output_dir.mkdir(exist_ok=True)"
   ],
   "metadata": {
    "collapsed": false,
    "ExecuteTime": {
     "end_time": "2024-08-29T13:18:59.430039Z",
     "start_time": "2024-08-29T13:18:59.426024Z"
    }
   },
   "id": "415be73ebf279440",
   "execution_count": 10
  },
  {
   "cell_type": "code",
   "outputs": [
    {
     "data": {
      "text/plain": "   Region/Country/Area                     Unnamed: 1  Year  \\\n0                    1  Total, all countries or areas  2010   \n1                    1  Total, all countries or areas  2010   \n2                    1  Total, all countries or areas  2010   \n3                    1  Total, all countries or areas  2010   \n4                    1  Total, all countries or areas  2010   \n\n                                              Series Value Footnotes  \\\n0       Population annual rate of increase (percent)   1.3       NaN   \n1          Total fertility rate (children per women)   2.6       NaN   \n2  Infant mortality for both sexes (per 1,000 liv...  37.1       NaN   \n3  Maternal mortality ratio (deaths per 100,000 p...   254       NaN   \n4    Life expectancy at birth for both sexes (years)  70.1       NaN   \n\n                                              Source  \n0  United Nations Population Division, New York, ...  \n1  United Nations Population Division, New York, ...  \n2  United Nations Statistics Division, New York, ...  \n3  World Health Organization (WHO), the United Na...  \n4  United Nations Population Division, New York, ...  ",
      "text/html": "<div>\n<style scoped>\n    .dataframe tbody tr th:only-of-type {\n        vertical-align: middle;\n    }\n\n    .dataframe tbody tr th {\n        vertical-align: top;\n    }\n\n    .dataframe thead th {\n        text-align: right;\n    }\n</style>\n<table border=\"1\" class=\"dataframe\">\n  <thead>\n    <tr style=\"text-align: right;\">\n      <th></th>\n      <th>Region/Country/Area</th>\n      <th>Unnamed: 1</th>\n      <th>Year</th>\n      <th>Series</th>\n      <th>Value</th>\n      <th>Footnotes</th>\n      <th>Source</th>\n    </tr>\n  </thead>\n  <tbody>\n    <tr>\n      <th>0</th>\n      <td>1</td>\n      <td>Total, all countries or areas</td>\n      <td>2010</td>\n      <td>Population annual rate of increase (percent)</td>\n      <td>1.3</td>\n      <td>NaN</td>\n      <td>United Nations Population Division, New York, ...</td>\n    </tr>\n    <tr>\n      <th>1</th>\n      <td>1</td>\n      <td>Total, all countries or areas</td>\n      <td>2010</td>\n      <td>Total fertility rate (children per women)</td>\n      <td>2.6</td>\n      <td>NaN</td>\n      <td>United Nations Population Division, New York, ...</td>\n    </tr>\n    <tr>\n      <th>2</th>\n      <td>1</td>\n      <td>Total, all countries or areas</td>\n      <td>2010</td>\n      <td>Infant mortality for both sexes (per 1,000 liv...</td>\n      <td>37.1</td>\n      <td>NaN</td>\n      <td>United Nations Statistics Division, New York, ...</td>\n    </tr>\n    <tr>\n      <th>3</th>\n      <td>1</td>\n      <td>Total, all countries or areas</td>\n      <td>2010</td>\n      <td>Maternal mortality ratio (deaths per 100,000 p...</td>\n      <td>254</td>\n      <td>NaN</td>\n      <td>World Health Organization (WHO), the United Na...</td>\n    </tr>\n    <tr>\n      <th>4</th>\n      <td>1</td>\n      <td>Total, all countries or areas</td>\n      <td>2010</td>\n      <td>Life expectancy at birth for both sexes (years)</td>\n      <td>70.1</td>\n      <td>NaN</td>\n      <td>United Nations Population Division, New York, ...</td>\n    </tr>\n  </tbody>\n</table>\n</div>"
     },
     "execution_count": 13,
     "metadata": {},
     "output_type": "execute_result"
    }
   ],
   "source": [
    "# Reading the data \n",
    "data = pd.read_csv(input_file, skiprows=1)\n",
    "data.head()"
   ],
   "metadata": {
    "collapsed": false,
    "ExecuteTime": {
     "end_time": "2024-08-29T13:24:35.949399Z",
     "start_time": "2024-08-29T13:24:35.922761Z"
    }
   },
   "id": "18fb7eb5a92e0427",
   "execution_count": 13
  },
  {
   "cell_type": "markdown",
   "source": [
    "Column names are mixed and in need of redefining and the header row is for some reason taking 2 rows, so we will add skip rows when reading csv"
   ],
   "metadata": {
    "collapsed": false
   },
   "id": "78d329e7973590fe"
  },
  {
   "cell_type": "code",
   "outputs": [
    {
     "data": {
      "text/plain": "   Region/Country/Area  \\\n0                    1   \n1                    1   \n2                    1   \n3                    1   \n4                    1   \n\n  Population growth and indicators of fertility and mortality  Year  \\\n0                      Total, all countries or areas           2010   \n1                      Total, all countries or areas           2010   \n2                      Total, all countries or areas           2010   \n3                      Total, all countries or areas           2010   \n4                      Total, all countries or areas           2010   \n\n                                              Series Value Footnotes  \\\n0       Population annual rate of increase (percent)   1.3       NaN   \n1          Total fertility rate (children per women)   2.6       NaN   \n2  Infant mortality for both sexes (per 1,000 liv...  37.1       NaN   \n3  Maternal mortality ratio (deaths per 100,000 p...   254       NaN   \n4    Life expectancy at birth for both sexes (years)  70.1       NaN   \n\n                                              Source  \n0  United Nations Population Division, New York, ...  \n1  United Nations Population Division, New York, ...  \n2  United Nations Statistics Division, New York, ...  \n3  World Health Organization (WHO), the United Na...  \n4  United Nations Population Division, New York, ...  ",
      "text/html": "<div>\n<style scoped>\n    .dataframe tbody tr th:only-of-type {\n        vertical-align: middle;\n    }\n\n    .dataframe tbody tr th {\n        vertical-align: top;\n    }\n\n    .dataframe thead th {\n        text-align: right;\n    }\n</style>\n<table border=\"1\" class=\"dataframe\">\n  <thead>\n    <tr style=\"text-align: right;\">\n      <th></th>\n      <th>Region/Country/Area</th>\n      <th>Population growth and indicators of fertility and mortality</th>\n      <th>Year</th>\n      <th>Series</th>\n      <th>Value</th>\n      <th>Footnotes</th>\n      <th>Source</th>\n    </tr>\n  </thead>\n  <tbody>\n    <tr>\n      <th>0</th>\n      <td>1</td>\n      <td>Total, all countries or areas</td>\n      <td>2010</td>\n      <td>Population annual rate of increase (percent)</td>\n      <td>1.3</td>\n      <td>NaN</td>\n      <td>United Nations Population Division, New York, ...</td>\n    </tr>\n    <tr>\n      <th>1</th>\n      <td>1</td>\n      <td>Total, all countries or areas</td>\n      <td>2010</td>\n      <td>Total fertility rate (children per women)</td>\n      <td>2.6</td>\n      <td>NaN</td>\n      <td>United Nations Population Division, New York, ...</td>\n    </tr>\n    <tr>\n      <th>2</th>\n      <td>1</td>\n      <td>Total, all countries or areas</td>\n      <td>2010</td>\n      <td>Infant mortality for both sexes (per 1,000 liv...</td>\n      <td>37.1</td>\n      <td>NaN</td>\n      <td>United Nations Statistics Division, New York, ...</td>\n    </tr>\n    <tr>\n      <th>3</th>\n      <td>1</td>\n      <td>Total, all countries or areas</td>\n      <td>2010</td>\n      <td>Maternal mortality ratio (deaths per 100,000 p...</td>\n      <td>254</td>\n      <td>NaN</td>\n      <td>World Health Organization (WHO), the United Na...</td>\n    </tr>\n    <tr>\n      <th>4</th>\n      <td>1</td>\n      <td>Total, all countries or areas</td>\n      <td>2010</td>\n      <td>Life expectancy at birth for both sexes (years)</td>\n      <td>70.1</td>\n      <td>NaN</td>\n      <td>United Nations Population Division, New York, ...</td>\n    </tr>\n  </tbody>\n</table>\n</div>"
     },
     "execution_count": 16,
     "metadata": {},
     "output_type": "execute_result"
    }
   ],
   "source": [
    "new_column_names = ['Region/Country/Area', 'Population growth and indicators of fertility and mortality', 'Year', 'Series', 'Value', 'Footnotes', 'Source']\n",
    "data.columns = new_column_names\n",
    "data.head()"
   ],
   "metadata": {
    "collapsed": false,
    "ExecuteTime": {
     "end_time": "2024-08-29T13:25:02.320445Z",
     "start_time": "2024-08-29T13:25:02.313304Z"
    }
   },
   "id": "aa1aa349465ac600",
   "execution_count": 16
  },
  {
   "cell_type": "markdown",
   "source": [
    "##### Now that the column names are correct, lets analyze the data types"
   ],
   "metadata": {
    "collapsed": false
   },
   "id": "d89f4d82873e3558"
  },
  {
   "cell_type": "code",
   "outputs": [
    {
     "data": {
      "text/plain": "Region/Country/Area                                             int64\nPopulation growth and indicators of fertility and mortality    object\nYear                                                            int64\nSeries                                                         object\nValue                                                          object\nFootnotes                                                      object\nSource                                                         object\ndtype: object"
     },
     "execution_count": 17,
     "metadata": {},
     "output_type": "execute_result"
    }
   ],
   "source": [
    "data.dtypes"
   ],
   "metadata": {
    "collapsed": false,
    "ExecuteTime": {
     "end_time": "2024-08-29T13:27:08.151982Z",
     "start_time": "2024-08-29T13:27:08.146839Z"
    }
   },
   "id": "86c360293f6308bc",
   "execution_count": 17
  },
  {
   "cell_type": "markdown",
   "source": [
    "The value field should be numeric value so lets change that"
   ],
   "metadata": {
    "collapsed": false
   },
   "id": "83cb9b32c5f8ba06"
  },
  {
   "cell_type": "code",
   "outputs": [
    {
     "data": {
      "text/plain": "Region/Country/Area                                              int64\nPopulation growth and indicators of fertility and mortality     object\nYear                                                             int64\nSeries                                                          object\nValue                                                          float64\nFootnotes                                                       object\nSource                                                          object\ndtype: object"
     },
     "execution_count": 19,
     "metadata": {},
     "output_type": "execute_result"
    }
   ],
   "source": [
    "data['Value'] = pd.to_numeric(data['Value'], errors='coerce')\n",
    "data.dtypes"
   ],
   "metadata": {
    "collapsed": false,
    "ExecuteTime": {
     "end_time": "2024-08-29T13:32:22.895359Z",
     "start_time": "2024-08-29T13:32:22.890270Z"
    }
   },
   "id": "4054fc06ea5fda60",
   "execution_count": 19
  },
  {
   "cell_type": "markdown",
   "source": [
    "##### Next we only want data that is from year 2022. Lets check if there are alot of null values in the 'Year' coulmn to ensure data integrity. "
   ],
   "metadata": {
    "collapsed": false
   },
   "id": "b72c237251c4c71f"
  },
  {
   "cell_type": "code",
   "outputs": [
    {
     "name": "stdout",
     "output_type": "stream",
     "text": [
      "0\n"
     ]
    }
   ],
   "source": [
    "nan_count = data['Year'].isna().sum()\n",
    "print(nan_count)"
   ],
   "metadata": {
    "collapsed": false,
    "ExecuteTime": {
     "end_time": "2024-08-29T13:46:50.126537Z",
     "start_time": "2024-08-29T13:46:50.121891Z"
    }
   },
   "id": "bc7f36269e295f93",
   "execution_count": 20
  },
  {
   "cell_type": "markdown",
   "source": [
    "Great! The data happens to be in well collected and there are no missing values in the year column. Lets filter the file to only store data from 2022."
   ],
   "metadata": {
    "collapsed": false
   },
   "id": "887c0726ccb40d1c"
  },
  {
   "cell_type": "code",
   "outputs": [
    {
     "name": "stdout",
     "output_type": "stream",
     "text": [
      "    Region/Country/Area  \\\n",
      "21                    1   \n",
      "22                    1   \n",
      "23                    1   \n",
      "24                    1   \n",
      "25                    1   \n",
      "\n",
      "   Population growth and indicators of fertility and mortality  Year  \\\n",
      "21                      Total, all countries or areas           2022   \n",
      "22                      Total, all countries or areas           2022   \n",
      "23                      Total, all countries or areas           2022   \n",
      "24                      Total, all countries or areas           2022   \n",
      "25                      Total, all countries or areas           2022   \n",
      "\n",
      "                                               Series  Value  \\\n",
      "21       Population annual rate of increase (percent)    0.8   \n",
      "22          Total fertility rate (children per women)    2.3   \n",
      "23  Infant mortality for both sexes (per 1,000 liv...   27.5   \n",
      "24    Life expectancy at birth for both sexes (years)   71.7   \n",
      "25         Life expectancy at birth for males (years)   69.1   \n",
      "\n",
      "                                         Footnotes  \\\n",
      "21  Projected estimate (medium fertility variant).   \n",
      "22  Projected estimate (medium fertility variant).   \n",
      "23  Projected estimate (medium fertility variant).   \n",
      "24  Projected estimate (medium fertility variant).   \n",
      "25  Projected estimate (medium fertility variant).   \n",
      "\n",
      "                                               Source  \n",
      "21  United Nations Population Division, New York, ...  \n",
      "22  United Nations Population Division, New York, ...  \n",
      "23  United Nations Statistics Division, New York, ...  \n",
      "24  United Nations Population Division, New York, ...  \n",
      "25  United Nations Population Division, New York, ...  \n"
     ]
    }
   ],
   "source": [
    "data_2022 = data[\n",
    "    (data['Year'] == 2022)\n",
    "]\n",
    "\n",
    "print(data_2022.head())"
   ],
   "metadata": {
    "collapsed": false,
    "ExecuteTime": {
     "end_time": "2024-08-29T13:48:39.665932Z",
     "start_time": "2024-08-29T13:48:39.657073Z"
    }
   },
   "id": "288def9f110c6c99",
   "execution_count": 21
  },
  {
   "cell_type": "markdown",
   "source": [
    "The data is pretty hard so read to lets use **style.set_properties** for formatting"
   ],
   "metadata": {
    "collapsed": false
   },
   "id": "3b9333931da30cac"
  },
  {
   "cell_type": "code",
   "outputs": [
    {
     "data": {
      "text/plain": "<pandas.io.formats.style.Styler at 0x23df5095dc0>",
      "text/html": "<style type=\"text/css\">\n#T_798bd_row0_col0, #T_798bd_row0_col1, #T_798bd_row0_col2, #T_798bd_row0_col3, #T_798bd_row0_col4, #T_798bd_row0_col5, #T_798bd_row0_col6, #T_798bd_row1_col0, #T_798bd_row1_col1, #T_798bd_row1_col2, #T_798bd_row1_col3, #T_798bd_row1_col4, #T_798bd_row1_col5, #T_798bd_row1_col6, #T_798bd_row2_col0, #T_798bd_row2_col1, #T_798bd_row2_col2, #T_798bd_row2_col3, #T_798bd_row2_col4, #T_798bd_row2_col5, #T_798bd_row2_col6, #T_798bd_row3_col0, #T_798bd_row3_col1, #T_798bd_row3_col2, #T_798bd_row3_col3, #T_798bd_row3_col4, #T_798bd_row3_col5, #T_798bd_row3_col6, #T_798bd_row4_col0, #T_798bd_row4_col1, #T_798bd_row4_col2, #T_798bd_row4_col3, #T_798bd_row4_col4, #T_798bd_row4_col5, #T_798bd_row4_col6 {\n  text-align: left;\n}\n</style>\n<table id=\"T_798bd\">\n  <thead>\n    <tr>\n      <th class=\"blank level0\" >&nbsp;</th>\n      <th id=\"T_798bd_level0_col0\" class=\"col_heading level0 col0\" >Region/Country/Area</th>\n      <th id=\"T_798bd_level0_col1\" class=\"col_heading level0 col1\" >Population growth and indicators of fertility and mortality</th>\n      <th id=\"T_798bd_level0_col2\" class=\"col_heading level0 col2\" >Year</th>\n      <th id=\"T_798bd_level0_col3\" class=\"col_heading level0 col3\" >Series</th>\n      <th id=\"T_798bd_level0_col4\" class=\"col_heading level0 col4\" >Value</th>\n      <th id=\"T_798bd_level0_col5\" class=\"col_heading level0 col5\" >Footnotes</th>\n      <th id=\"T_798bd_level0_col6\" class=\"col_heading level0 col6\" >Source</th>\n    </tr>\n  </thead>\n  <tbody>\n    <tr>\n      <th id=\"T_798bd_level0_row0\" class=\"row_heading level0 row0\" >21</th>\n      <td id=\"T_798bd_row0_col0\" class=\"data row0 col0\" >1</td>\n      <td id=\"T_798bd_row0_col1\" class=\"data row0 col1\" >Total, all countries or areas</td>\n      <td id=\"T_798bd_row0_col2\" class=\"data row0 col2\" >2022</td>\n      <td id=\"T_798bd_row0_col3\" class=\"data row0 col3\" >Population annual rate of increase (percent)</td>\n      <td id=\"T_798bd_row0_col4\" class=\"data row0 col4\" >0.800000</td>\n      <td id=\"T_798bd_row0_col5\" class=\"data row0 col5\" >Projected estimate (medium fertility variant).</td>\n      <td id=\"T_798bd_row0_col6\" class=\"data row0 col6\" >United Nations Population Division, New York, World Population Prospects: The 2022 Revision, last accessed July 2022.</td>\n    </tr>\n    <tr>\n      <th id=\"T_798bd_level0_row1\" class=\"row_heading level0 row1\" >22</th>\n      <td id=\"T_798bd_row1_col0\" class=\"data row1 col0\" >1</td>\n      <td id=\"T_798bd_row1_col1\" class=\"data row1 col1\" >Total, all countries or areas</td>\n      <td id=\"T_798bd_row1_col2\" class=\"data row1 col2\" >2022</td>\n      <td id=\"T_798bd_row1_col3\" class=\"data row1 col3\" >Total fertility rate (children per women)</td>\n      <td id=\"T_798bd_row1_col4\" class=\"data row1 col4\" >2.300000</td>\n      <td id=\"T_798bd_row1_col5\" class=\"data row1 col5\" >Projected estimate (medium fertility variant).</td>\n      <td id=\"T_798bd_row1_col6\" class=\"data row1 col6\" >United Nations Population Division, New York, World Population Prospects: The 2022 Revision; supplemented by data from the United Nations Statistics Division, New York, Demographic Yearbook 2021 and Secretariat for the Pacific Community (SPC) for small countries or areas, last accessed July 2022.</td>\n    </tr>\n    <tr>\n      <th id=\"T_798bd_level0_row2\" class=\"row_heading level0 row2\" >23</th>\n      <td id=\"T_798bd_row2_col0\" class=\"data row2 col0\" >1</td>\n      <td id=\"T_798bd_row2_col1\" class=\"data row2 col1\" >Total, all countries or areas</td>\n      <td id=\"T_798bd_row2_col2\" class=\"data row2 col2\" >2022</td>\n      <td id=\"T_798bd_row2_col3\" class=\"data row2 col3\" >Infant mortality for both sexes (per 1,000 live births)</td>\n      <td id=\"T_798bd_row2_col4\" class=\"data row2 col4\" >27.500000</td>\n      <td id=\"T_798bd_row2_col5\" class=\"data row2 col5\" >Projected estimate (medium fertility variant).</td>\n      <td id=\"T_798bd_row2_col6\" class=\"data row2 col6\" >United Nations Statistics Division, New York, \"Demographic Yearbook 2021\" and the demographic statistics database, last accessed June 2022.</td>\n    </tr>\n    <tr>\n      <th id=\"T_798bd_level0_row3\" class=\"row_heading level0 row3\" >24</th>\n      <td id=\"T_798bd_row3_col0\" class=\"data row3 col0\" >1</td>\n      <td id=\"T_798bd_row3_col1\" class=\"data row3 col1\" >Total, all countries or areas</td>\n      <td id=\"T_798bd_row3_col2\" class=\"data row3 col2\" >2022</td>\n      <td id=\"T_798bd_row3_col3\" class=\"data row3 col3\" >Life expectancy at birth for both sexes (years)</td>\n      <td id=\"T_798bd_row3_col4\" class=\"data row3 col4\" >71.700000</td>\n      <td id=\"T_798bd_row3_col5\" class=\"data row3 col5\" >Projected estimate (medium fertility variant).</td>\n      <td id=\"T_798bd_row3_col6\" class=\"data row3 col6\" >United Nations Population Division, New York, World Population Prospects: The 2022 Revision; supplemented by data from the United Nations Statistics Division, New York, Demographic Yearbook 2021 and Secretariat for the Pacific Community (SPC) for small countries or areas, last accessed July 2022.</td>\n    </tr>\n    <tr>\n      <th id=\"T_798bd_level0_row4\" class=\"row_heading level0 row4\" >25</th>\n      <td id=\"T_798bd_row4_col0\" class=\"data row4 col0\" >1</td>\n      <td id=\"T_798bd_row4_col1\" class=\"data row4 col1\" >Total, all countries or areas</td>\n      <td id=\"T_798bd_row4_col2\" class=\"data row4 col2\" >2022</td>\n      <td id=\"T_798bd_row4_col3\" class=\"data row4 col3\" >Life expectancy at birth for males (years)</td>\n      <td id=\"T_798bd_row4_col4\" class=\"data row4 col4\" >69.100000</td>\n      <td id=\"T_798bd_row4_col5\" class=\"data row4 col5\" >Projected estimate (medium fertility variant).</td>\n      <td id=\"T_798bd_row4_col6\" class=\"data row4 col6\" >United Nations Population Division, New York, World Population Prospects: The 2022 Revision; supplemented by data from the United Nations Statistics Division, New York, Demographic Yearbook 2021 and Secretariat for the Pacific Community (SPC) for small countries or areas, last accessed July 2022.</td>\n    </tr>\n  </tbody>\n</table>\n"
     },
     "execution_count": 29,
     "metadata": {},
     "output_type": "execute_result"
    }
   ],
   "source": [
    "data_2022.head().style.set_properties(**{'text-align': 'left'})\n"
   ],
   "metadata": {
    "collapsed": false,
    "ExecuteTime": {
     "end_time": "2024-08-29T13:53:37.772272Z",
     "start_time": "2024-08-29T13:53:36.976041Z"
    }
   },
   "id": "ed962a6351342d28",
   "execution_count": 29
  },
  {
   "cell_type": "markdown",
   "source": [
    "### Okay! Now we are talking. The data is good and is ready for modelling"
   ],
   "metadata": {
    "collapsed": false
   },
   "id": "2c7a8fad81954e08"
  },
  {
   "cell_type": "code",
   "outputs": [],
   "source": [],
   "metadata": {
    "collapsed": false
   },
   "id": "10a55e5b53c8a557"
  }
 ],
 "metadata": {
  "kernelspec": {
   "display_name": "Python 3",
   "language": "python",
   "name": "python3"
  },
  "language_info": {
   "codemirror_mode": {
    "name": "ipython",
    "version": 2
   },
   "file_extension": ".py",
   "mimetype": "text/x-python",
   "name": "python",
   "nbconvert_exporter": "python",
   "pygments_lexer": "ipython2",
   "version": "2.7.6"
  }
 },
 "nbformat": 4,
 "nbformat_minor": 5
}
